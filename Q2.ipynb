{
 "cells": [
  {
   "cell_type": "code",
   "execution_count": 34,
   "metadata": {},
   "outputs": [],
   "source": [
    "import torch\n",
    "import torch.nn as nn\n",
    "import torch.optim as optim\n",
    "\n",
    "from torchvision import datasets, transforms, models\n",
    "from torch.utils.data import DataLoader, random_split\n",
    "from torchvision.models import resnet50, ResNet50_Weights\n",
    "from sklearn.metrics import confusion_matrix, precision_score, recall_score, f1_score, accuracy_score\n",
    "\n",
    "import numpy as np\n",
    "import os\n",
    "\n",
    "import seaborn as sns\n",
    "import matplotlib.pyplot as plt"
   ]
  },
  {
   "cell_type": "code",
   "execution_count": 24,
   "metadata": {},
   "outputs": [],
   "source": [
    "train_transforms = transforms.Compose([\n",
    "    transforms.Grayscale(num_output_channels=3),\n",
    "    transforms.RandomResizedCrop(224),\n",
    "    transforms.RandomHorizontalFlip(),\n",
    "    transforms.RandomRotation(10),\n",
    "    transforms.RandomAffine(degrees=0, translate=(0.05, 0.05), scale=(0.95, 1.05)),\n",
    "    transforms.ToTensor(),\n",
    "    transforms.Normalize(mean=[0.485, 0.456, 0.406], std=[0.229, 0.224, 0.225]),\n",
    "])\n",
    "\n",
    "valid_test_transforms = transforms.Compose([\n",
    "    transforms.Grayscale(num_output_channels=3),\n",
    "    transforms.Resize(256),\n",
    "    transforms.CenterCrop(224),\n",
    "    transforms.ToTensor(),\n",
    "    transforms.Normalize(mean=[0.485, 0.456, 0.406], std=[0.229, 0.224, 0.225]),\n",
    "])"
   ]
  },
  {
   "cell_type": "code",
   "execution_count": 32,
   "metadata": {},
   "outputs": [],
   "source": [
    "train_dataset = datasets.ImageFolder(root=os.path.join('tumor', 'Training'), transform=train_transforms)\n",
    "test_dataset = datasets.ImageFolder(root=os.path.join('tumor', 'Testing'), transform=valid_test_transforms)\n",
    "\n",
    "valid_size = int(0.2 * len(train_dataset))\n",
    "train_size = len(train_dataset) - valid_size\n",
    "train_dataset, valid_dataset = random_split(train_dataset, [train_size, valid_size], \n",
    "                                            generator=torch.Generator().manual_seed(42))"
   ]
  },
  {
   "cell_type": "code",
   "execution_count": 33,
   "metadata": {},
   "outputs": [],
   "source": [
    "train_loader = DataLoader(train_dataset, batch_size=64, shuffle=True, num_workers=0)\n",
    "valid_loader = DataLoader(valid_dataset, batch_size=64, shuffle=False, num_workers=0)\n",
    "test_loader = DataLoader(test_dataset, batch_size=64, shuffle=False, num_workers=0)"
   ]
  },
  {
   "cell_type": "code",
   "execution_count": 25,
   "metadata": {},
   "outputs": [
    {
     "data": {
      "text/plain": [
       "True"
      ]
     },
     "execution_count": 25,
     "metadata": {},
     "output_type": "execute_result"
    }
   ],
   "source": [
    "torch.cuda.is_available()"
   ]
  },
  {
   "cell_type": "code",
   "execution_count": 31,
   "metadata": {},
   "outputs": [],
   "source": [
    "weights = ResNet50_Weights.DEFAULT\n",
    "model = resnet50(weights=weights)\n",
    "\n",
    "for param in model.parameters():\n",
    "    param.requires_grad = False\n",
    "\n",
    "num_ftrs = model.fc.in_features\n",
    "model.fc = nn.Linear(num_ftrs, 2)\n",
    "\n",
    "device = torch.device(\"cuda\")\n",
    "model = model.to(device)\n",
    "\n",
    "criterion = nn.CrossEntropyLoss()\n",
    "optimizer = optim.Adam(model.fc.parameters(), lr=0.001)\n",
    "\n",
    "def calculate_metrics(outputs, labels):\n",
    "    _, preds = torch.max(outputs, 1)\n",
    "    preds = preds.cpu().numpy()\n",
    "    labels = labels.cpu().numpy()\n",
    "    precision = precision_score(labels, preds, average='binary')\n",
    "    recall = recall_score(labels, preds, average='binary')\n",
    "    f1 = f1_score(labels, preds, average='binary')\n",
    "    accuracy = accuracy_score(labels, preds)\n",
    "    return precision, recall, f1, accuracy"
   ]
  },
  {
   "cell_type": "code",
   "execution_count": null,
   "metadata": {},
   "outputs": [
    {
     "name": "stdout",
     "output_type": "stream",
     "text": [
      "Epoch 1/10, Loss: 0.4227, Val Loss: 0.4101, Precision: 0.7873, Recall: 0.9821, F1: 0.8713, Accuracy: 0.8469\n",
      "Epoch 2/10, Loss: 0.2180, Val Loss: 0.1950, Precision: 0.9727, Recall: 0.9460, F1: 0.9588, Accuracy: 0.9563\n",
      "Epoch 3/10, Loss: 0.1728, Val Loss: 0.1533, Precision: 0.9611, Recall: 0.9660, F1: 0.9630, Accuracy: 0.9609\n",
      "Epoch 4/10, Loss: 0.1486, Val Loss: 0.1293, Precision: 0.9900, Recall: 0.9681, F1: 0.9786, Accuracy: 0.9781\n",
      "Epoch 5/10, Loss: 0.1280, Val Loss: 0.1289, Precision: 0.9710, Recall: 0.9444, F1: 0.9571, Accuracy: 0.9563\n",
      "Epoch 6/10, Loss: 0.1193, Val Loss: 0.1045, Precision: 0.9878, Recall: 0.9637, F1: 0.9752, Accuracy: 0.9734\n",
      "Epoch 7/10, Loss: 0.1087, Val Loss: 0.1060, Precision: 0.9855, Recall: 0.9665, F1: 0.9755, Accuracy: 0.9750\n",
      "Epoch 8/10, Loss: 0.1024, Val Loss: 0.0829, Precision: 0.9810, Recall: 0.9830, F1: 0.9817, Accuracy: 0.9812\n",
      "Epoch 9/10, Loss: 0.0925, Val Loss: 0.0825, Precision: 0.9767, Recall: 0.9893, F1: 0.9828, Accuracy: 0.9812\n",
      "Epoch 10/10, Loss: 0.0874, Val Loss: 0.0897, Precision: 0.9844, Recall: 0.9744, F1: 0.9792, Accuracy: 0.9781\n"
     ]
    }
   ],
   "source": [
    "num_epochs = 10\n",
    "\n",
    "for epoch in range(num_epochs):\n",
    "    model.train()\n",
    "    running_loss = 0.0\n",
    "    for inputs, labels in train_loader:\n",
    "        inputs, labels = inputs.to(device), labels.to(device)\n",
    "        \n",
    "        optimizer.zero_grad()\n",
    "        \n",
    "        with torch.set_grad_enabled(True):\n",
    "            outputs = model(inputs)\n",
    "            loss = criterion(outputs, labels)\n",
    "            loss.backward()\n",
    "            optimizer.step()\n",
    "        \n",
    "        running_loss += loss.item() * inputs.size(0)\n",
    "    \n",
    "    epoch_loss = running_loss / len(train_loader.dataset)\n",
    "\n",
    "    model.eval()\n",
    "    val_running_loss = 0.0\n",
    "    all_precision, all_recall, all_f1, all_accuracy = [], [], [], []\n",
    "    for inputs, labels in valid_loader:\n",
    "        inputs, labels = inputs.to(device), labels.to(device)\n",
    "        \n",
    "        with torch.no_grad():\n",
    "            outputs = model(inputs)\n",
    "            loss = criterion(outputs, labels)\n",
    "            precision, recall, f1, accuracy = calculate_metrics(outputs, labels)\n",
    "            \n",
    "        val_running_loss += loss.item() * inputs.size(0)\n",
    "        all_precision.append(precision)\n",
    "        all_recall.append(recall)\n",
    "        all_f1.append(f1)\n",
    "        all_accuracy.append(accuracy)\n",
    "    \n",
    "    val_loss = val_running_loss / len(valid_loader.dataset)\n",
    "    \n",
    "    print(f'Epoch {epoch+1}/{num_epochs}, '\n",
    "          f'Loss: {epoch_loss:.4f}, '\n",
    "          f'Val Loss: {val_loss:.4f}, '\n",
    "          f'Precision: {np.mean(all_precision):.4f}, '\n",
    "          f'Recall: {np.mean(all_recall):.4f}, '\n",
    "          f'F1: {np.mean(all_f1):.4f}, '\n",
    "          f'Accuracy: {np.mean(all_accuracy):.4f}')"
   ]
  },
  {
   "cell_type": "code",
   "execution_count": 29,
   "metadata": {},
   "outputs": [
    {
     "name": "stdout",
     "output_type": "stream",
     "text": [
      "Test Loss: 0.0855, \n",
      "      Precision: 0.9825, \n",
      "      Recall: 0.9728, \n",
      "      F1: 0.9777, \n",
      "      Accuracy: 0.9745\n"
     ]
    }
   ],
   "source": [
    "def evaluate_model(model, test_loader, criterion, device):\n",
    "    model.eval()\n",
    "    test_running_loss = 0.0\n",
    "    all_preds = []\n",
    "    all_labels = []\n",
    "    \n",
    "    for inputs, labels in test_loader:\n",
    "        inputs, labels = inputs.to(device), labels.to(device)\n",
    "        \n",
    "        with torch.no_grad():\n",
    "            outputs = model(inputs)\n",
    "            loss = criterion(outputs, labels)\n",
    "            \n",
    "        test_running_loss += loss.item() * inputs.size(0)\n",
    "        _, preds = torch.max(outputs, 1)\n",
    "        all_preds.extend(preds.cpu().numpy())\n",
    "        all_labels.extend(labels.cpu().numpy())\n",
    "    \n",
    "    test_loss = test_running_loss / len(test_loader.dataset)\n",
    "    \n",
    "    precision = precision_score(all_labels, all_preds, average='binary')\n",
    "    recall = recall_score(all_labels, all_preds, average='binary')\n",
    "    f1 = f1_score(all_labels, all_preds, average='binary')\n",
    "    accuracy = accuracy_score(all_labels, all_preds)\n",
    "    \n",
    "    return test_loss, precision, recall, f1, accuracy, all_preds, all_labels\n",
    "\n",
    "test_loss, precision, recall, f1, accuracy, all_preds, all_labels = evaluate_model(model, test_loader, criterion, device)\n",
    "\n",
    "print(f'''Test Loss: {test_loss:.4f}, \n",
    "      Precision: {precision:.4f}, \n",
    "      Recall: {recall:.4f}, \n",
    "      F1: {f1:.4f}, \n",
    "      Accuracy: {accuracy:.4f}''')"
   ]
  },
  {
   "cell_type": "code",
   "execution_count": 30,
   "metadata": {},
   "outputs": [
    {
     "data": {
      "image/png": "[encoded data removed]",
      "text/plain": [
       "<Figure size 500x500 with 2 Axes>"
      ]
     },
     "metadata": {},
     "output_type": "display_data"
    }
   ],
   "source": [
    "conf_matrix = confusion_matrix(all_labels, all_preds)\n",
    "\n",
    "fig, ax = plt.subplots(figsize=(5, 5))\n",
    "sns.heatmap(conf_matrix, annot=True, fmt='d', cmap='Blues', ax=ax)\n",
    "ax.set_xlabel('Predicted Labels')\n",
    "ax.set_ylabel('True Labels')\n",
    "ax.set_title('Confusion Matrix')\n",
    "ax.xaxis.set_ticklabels(['Notumor', 'Glioma'])\n",
    "ax.yaxis.set_ticklabels(['Notumor', 'Glioma'])\n",
    "\n",
    "plt.show()"
   ]
  }
 ],
 "metadata": {
  "kernelspec": {
   "display_name": "Python 3",
   "language": "python",
   "name": "python3"
  },
  "language_info": {
   "codemirror_mode": {
    "name": "ipython",
    "version": 3
   },
   "file_extension": ".py",
   "mimetype": "text/x-python",
   "name": "python",
   "nbconvert_exporter": "python",
   "pygments_lexer": "ipython3",
   "version": "3.11.1"
  }
 },
 "nbformat": 4,
 "nbformat_minor": 2
}
